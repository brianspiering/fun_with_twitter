{
 "cells": [
  {
   "cell_type": "markdown",
   "metadata": {},
   "source": [
    "---\n",
    "Save selected parts of the Twitter stream\n",
    "==="
   ]
  },
  {
   "cell_type": "markdown",
   "metadata": {},
   "source": [
    "Inspired by http://adilmoujahid.com/posts/2014/07/twitter-analytics/"
   ]
  },
  {
   "cell_type": "markdown",
   "metadata": {},
   "source": [
    "---\n",
    "\n",
    "Take a peak at the code\n"
   ]
  },
  {
   "cell_type": "code",
   "execution_count": 2,
   "metadata": {
    "collapsed": false
   },
   "outputs": [
    {
     "name": "stdout",
     "output_type": "stream",
     "text": [
      "406\n",
      "406\n",
      "406\n",
      "406\n",
      "406\n",
      "406\n",
      "406\n"
     ]
    }
   ],
   "source": [
    "# %load tweepy_writer.py\n",
    "#!/usr/bin/python3\n",
    "\n",
    "\"\"\"A simple streaming writer from Twitter's API.\n",
    "\n",
    "Inspired by http://adilmoujahid.com/posts/2014/07/twitter-analytics/\n",
    "\"\"\"\n",
    "\n",
    "import json\n",
    "import os\n",
    "import sys\n",
    "\n",
    "from credentials import credentials\n",
    "from tweepy.streaming import StreamListener\n",
    "from tweepy import OAuthHandler\n",
    "from tweepy import Stream\n",
    "\n",
    "# Load credentials from ~/.credentials.json\n",
    "creds = credentials.require(['access_token', \n",
    "                             'access_token_secret', \n",
    "                             'consumer_key',\n",
    "                             'consumer_secret'])\n",
    "\n",
    "auth = OAuthHandler(creds.consumer_key, creds.consumer_secret)\n",
    "auth.set_access_token(creds.access_token, creds.access_token_secret)\n",
    "\n",
    "class WriteToDiskListener(StreamListener):\n",
    "    \"\"\"Write stream listener to disk with limited number of Tweets.\n",
    "    \"\"\"\n",
    "\n",
    "    def __init__(self, filename, limit=5):\n",
    "        self.counter = 0\n",
    "        self.filename = filename\n",
    "        self.limit = limit\n",
    "        \n",
    "    def on_data(self, data):\n",
    "        \"If under limit, write received data to disk.\"\n",
    "        while self.counter < self.limit:\n",
    "            try:\n",
    "                with open(self.filename.lower()+'.json', 'a') as f:\n",
    "                    f.write(data)\n",
    "                self.counter += 1\n",
    "                return True\n",
    "            except BaseException as e:\n",
    "                print(\"Error on_data: {}\".format(e))\n",
    "            return True\n",
    "        else:\n",
    "            return False\n",
    " \n",
    "    def on_error(self, status):\n",
    "        print(status)\n",
    "\n",
    "if __name__ == '__main__':    \n",
    "    track = sys.argv[1:] # Track is a list of search terms to stream.\n",
    "    filename = \"_\".join([item.lower() for item in track])\n",
    "\n",
    "    # # Remove existing file of tweets\n",
    "    # try:\n",
    "    #     os.remove(filename+'.json')\n",
    "    # except OSError:\n",
    "    #     pass\n",
    "\n",
    "    listener = WriteToDiskListener(filename=filename, \n",
    "                                    limit=5)\n",
    "    stream = Stream(auth, listener)\n",
    "\n",
    "    try:\n",
    "        stream.filter(track=track,\n",
    "                      languages=['en'])\n",
    "    except:\n",
    "        stream.disconnect()"
   ]
  },
  {
   "cell_type": "markdown",
   "metadata": {},
   "source": [
    "Put in a list of terms to search for in the Twitter Stream"
   ]
  },
  {
   "cell_type": "code",
   "execution_count": 3,
   "metadata": {
    "collapsed": false
   },
   "outputs": [],
   "source": [
    "! python3 tweepy_writer.py Python"
   ]
  },
  {
   "cell_type": "code",
   "execution_count": null,
   "metadata": {
    "collapsed": true
   },
   "outputs": [],
   "source": [
    "! python3 tweepy_writer.py Python Jupyter IPython"
   ]
  },
  {
   "cell_type": "markdown",
   "metadata": {},
   "source": [
    "It saves the data as json for easy processing"
   ]
  },
  {
   "cell_type": "code",
   "execution_count": 20,
   "metadata": {
    "collapsed": true
   },
   "outputs": [],
   "source": [
    "import json\n",
    "from pprint import pprint"
   ]
  },
  {
   "cell_type": "code",
   "execution_count": 24,
   "metadata": {
    "collapsed": false
   },
   "outputs": [],
   "source": [
    "data = []\n",
    "\n",
    "with open('trump_obama.json') as data_file:\n",
    "    for line in data_file:\n",
    "        tweet = json.loads(line)\n",
    "        data.append(tweet)"
   ]
  },
  {
   "cell_type": "code",
   "execution_count": null,
   "metadata": {
    "collapsed": true
   },
   "outputs": [],
   "source": [
    "pprint(data)"
   ]
  }
 ],
 "metadata": {
  "kernelspec": {
   "display_name": "Python 3",
   "language": "python",
   "name": "python3"
  },
  "language_info": {
   "codemirror_mode": {
    "name": "ipython",
    "version": 3
   },
   "file_extension": ".py",
   "mimetype": "text/x-python",
   "name": "python",
   "nbconvert_exporter": "python",
   "pygments_lexer": "ipython3",
   "version": "3.5.1"
  }
 },
 "nbformat": 4,
 "nbformat_minor": 0
}
