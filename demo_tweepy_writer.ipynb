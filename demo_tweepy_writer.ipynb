{
 "cells": [
  {
   "cell_type": "markdown",
   "metadata": {},
   "source": [
    "---\n",
    "Save selected parts of the Twitter stream\n",
    "==="
   ]
  },
  {
   "cell_type": "markdown",
   "metadata": {},
   "source": [
    "Inspired by http://adilmoujahid.com/posts/2014/07/twitter-analytics/"
   ]
  },
  {
   "cell_type": "markdown",
   "metadata": {},
   "source": [
    "---\n",
    "\n",
    "Take a peak at the code\n"
   ]
  },
  {
   "cell_type": "code",
   "execution_count": 4,
   "metadata": {
    "collapsed": false
   },
   "outputs": [
    {
     "name": "stdout",
     "output_type": "stream",
     "text": [
      "406\n",
      "406\n",
      "406\n",
      "406\n"
     ]
    }
   ],
   "source": [
    "# %load tweepy_writer.py\n",
    "#!/usr/bin/python3\n",
    "\n",
    "\"\"\"A simple streaming writer from Twitter's API.\n",
    "\n",
    "Inspired by http://adilmoujahid.com/posts/2014/07/twitter-analytics/\n",
    "\"\"\"\n",
    "\n",
    "import json\n",
    "import os\n",
    "import sys\n",
    "\n",
    "from credentials import credentials\n",
    "from tweepy.streaming import StreamListener\n",
    "from tweepy import OAuthHandler\n",
    "from tweepy import Stream\n",
    "\n",
    "# Load credentials from ~/.credentials.json\n",
    "creds = credentials.require(['access_token', \n",
    "                             'access_token_secret', \n",
    "                             'consumer_key',\n",
    "                             'consumer_secret'])\n",
    "\n",
    "auth = OAuthHandler(creds.consumer_key, creds.consumer_secret)\n",
    "auth.set_access_token(creds.access_token, creds.access_token_secret)\n",
    "\n",
    "class WriteToDiskListener(StreamListener):\n",
    "    \"\"\"Write stream listener to disk with limited number of Tweets.\n",
    "    \"\"\"\n",
    "\n",
    "    def __init__(self, filename, limit=5):\n",
    "        self.counter = 0\n",
    "        self.filename = filename\n",
    "        self.limit = limit\n",
    "        \n",
    "    def on_data(self, data):\n",
    "        \"If under limit, write received data to disk.\"\n",
    "        while self.counter < self.limit:\n",
    "            try:\n",
    "                with open(self.filename.lower()+'.json', 'a') as f:\n",
    "                    f.write(data)\n",
    "                self.counter += 1\n",
    "                return True\n",
    "            except BaseException as e:\n",
    "                print(\"Error on_data: {}\".format(e))\n",
    "            return True\n",
    "        else:\n",
    "            return False\n",
    " \n",
    "    def on_error(self, status):\n",
    "        print(status)\n",
    "\n",
    "if __name__ == '__main__':    \n",
    "    track = sys.argv[1:] # Track is a list of search terms to stream.\n",
    "    filename = \"_\".join([item.lower() for item in track])\n",
    "\n",
    "    # # Remove existing file of tweets\n",
    "    # try:\n",
    "    #     os.remove(filename+'.json')\n",
    "    # except OSError:\n",
    "    #     pass\n",
    "\n",
    "    listener = WriteToDiskListener(filename=filename, \n",
    "                                    limit=5)\n",
    "    stream = Stream(auth, listener)\n",
    "\n",
    "    try:\n",
    "        stream.filter(track=track,\n",
    "                      languages=['en'])\n",
    "    except:\n",
    "        stream.disconnect()"
   ]
  },
  {
   "cell_type": "markdown",
   "metadata": {},
   "source": [
    "Put in a list of terms to search for in the Twitter Stream"
   ]
  },
  {
   "cell_type": "code",
   "execution_count": 5,
   "metadata": {
    "collapsed": false
   },
   "outputs": [],
   "source": [
    "! python3 tweepy_writer.py pizza"
   ]
  },
  {
   "cell_type": "code",
   "execution_count": 6,
   "metadata": {
    "collapsed": false
   },
   "outputs": [],
   "source": [
    "! python3 tweepy_writer.py pizza beer"
   ]
  },
  {
   "cell_type": "markdown",
   "metadata": {},
   "source": [
    "It saves the data as json for easy processing"
   ]
  },
  {
   "cell_type": "code",
   "execution_count": 7,
   "metadata": {
    "collapsed": true
   },
   "outputs": [],
   "source": [
    "import json\n",
    "from pprint import pprint"
   ]
  },
  {
   "cell_type": "code",
   "execution_count": 9,
   "metadata": {
    "collapsed": false
   },
   "outputs": [],
   "source": [
    "data = []\n",
    "\n",
    "with open('pizza_beer.json') as data_file:\n",
    "    for line in data_file:\n",
    "        tweet = json.loads(line)\n",
    "        data.append(tweet)"
   ]
  },
  {
   "cell_type": "code",
   "execution_count": 11,
   "metadata": {
    "collapsed": false
   },
   "outputs": [
    {
     "name": "stdout",
     "output_type": "stream",
     "text": [
      "{'contributors': None,\n",
      " 'coordinates': None,\n",
      " 'created_at': 'Sat Mar 19 13:39:20 +0000 2016',\n",
      " 'entities': {'hashtags': [],\n",
      "              'symbols': [],\n",
      "              'urls': [],\n",
      "              'user_mentions': [{'id': 2583812180,\n",
      "                                 'id_str': '2583812180',\n",
      "                                 'indices': [0, 11],\n",
      "                                 'name': 'xin ☁',\n",
      "                                 'screen_name': 'tan_huixin'}]},\n",
      " 'favorite_count': 0,\n",
      " 'favorited': False,\n",
      " 'filter_level': 'low',\n",
      " 'geo': None,\n",
      " 'id': 711185288802861057,\n",
      " 'id_str': '711185288802861057',\n",
      " 'in_reply_to_screen_name': 'tan_huixin',\n",
      " 'in_reply_to_status_id': 711184946400854021,\n",
      " 'in_reply_to_status_id_str': '711184946400854021',\n",
      " 'in_reply_to_user_id': 2583812180,\n",
      " 'in_reply_to_user_id_str': '2583812180',\n",
      " 'is_quote_status': False,\n",
      " 'lang': 'en',\n",
      " 'place': None,\n",
      " 'retweet_count': 0,\n",
      " 'retweeted': False,\n",
      " 'source': '<a href=\"http://twitter.com/download/android\" '\n",
      "           'rel=\"nofollow\">Twitter for Android</a>',\n",
      " 'text': '@tan_huixin because u stole my pizza HAHAHA jokes wgt to share my '\n",
      "         'pizza one 😌😌😂',\n",
      " 'timestamp_ms': '1458394760691',\n",
      " 'truncated': False,\n",
      " 'user': {'contributors_enabled': False,\n",
      "          'created_at': 'Thu Aug 13 07:06:33 +0000 2015',\n",
      "          'default_profile': True,\n",
      "          'default_profile_image': False,\n",
      "          'description': 'sanchez',\n",
      "          'favourites_count': 323,\n",
      "          'follow_request_sent': None,\n",
      "          'followers_count': 99,\n",
      "          'following': None,\n",
      "          'friends_count': 101,\n",
      "          'geo_enabled': False,\n",
      "          'id': 3314150293,\n",
      "          'id_str': '3314150293',\n",
      "          'is_translator': False,\n",
      "          'lang': 'en',\n",
      "          'listed_count': 0,\n",
      "          'location': 'pizza land',\n",
      "          'name': 'sha ❣',\n",
      "          'notifications': None,\n",
      "          'profile_background_color': 'C0DEED',\n",
      "          'profile_background_image_url': 'http://abs.twimg.com/images/themes/theme1/bg.png',\n",
      "          'profile_background_image_url_https': 'https://abs.twimg.com/images/themes/theme1/bg.png',\n",
      "          'profile_background_tile': False,\n",
      "          'profile_banner_url': 'https://pbs.twimg.com/profile_banners/3314150293/1458391556',\n",
      "          'profile_image_url': 'http://pbs.twimg.com/profile_images/699151811605716992/CeTqDcQe_normal.jpg',\n",
      "          'profile_image_url_https': 'https://pbs.twimg.com/profile_images/699151811605716992/CeTqDcQe_normal.jpg',\n",
      "          'profile_link_color': '0084B4',\n",
      "          'profile_sidebar_border_color': 'C0DEED',\n",
      "          'profile_sidebar_fill_color': 'DDEEF6',\n",
      "          'profile_text_color': '333333',\n",
      "          'profile_use_background_image': True,\n",
      "          'protected': False,\n",
      "          'screen_name': 'sh4h4dx',\n",
      "          'statuses_count': 2139,\n",
      "          'time_zone': None,\n",
      "          'url': None,\n",
      "          'utc_offset': None,\n",
      "          'verified': False}}\n"
     ]
    }
   ],
   "source": [
    "pprint(data[0])"
   ]
  },
  {
   "cell_type": "markdown",
   "metadata": {},
   "source": [
    "<br>\n",
    "<br>"
   ]
  }
 ],
 "metadata": {
  "kernelspec": {
   "display_name": "Python 3",
   "language": "python",
   "name": "python3"
  },
  "language_info": {
   "codemirror_mode": {
    "name": "ipython",
    "version": 3
   },
   "file_extension": ".py",
   "mimetype": "text/x-python",
   "name": "python",
   "nbconvert_exporter": "python",
   "pygments_lexer": "ipython3",
   "version": "3.5.1"
  }
 },
 "nbformat": 4,
 "nbformat_minor": 0
}
