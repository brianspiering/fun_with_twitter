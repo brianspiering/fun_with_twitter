{
 "cells": [
  {
   "cell_type": "markdown",
   "metadata": {},
   "source": [
    "Explore TwitterAPI\n",
    "====\n",
    "\n",
    "Based on this code: http://geduldig.github.io/TwitterAPI/faulttolerance.html"
   ]
  },
  {
   "cell_type": "code",
   "execution_count": 73,
   "metadata": {
    "collapsed": false
   },
   "outputs": [],
   "source": [
    "reset -fs"
   ]
  },
  {
   "cell_type": "code",
   "execution_count": 74,
   "metadata": {
    "collapsed": false
   },
   "outputs": [],
   "source": [
    "from itertools import islice\n",
    "from time import sleep\n",
    "\n",
    "from credentials import credentials\n",
    "from ftfy import fix_text\n",
    "from textblob import TextBlob\n",
    "from TwitterAPI import TwitterAPI"
   ]
  },
  {
   "cell_type": "code",
   "execution_count": 75,
   "metadata": {
    "collapsed": true
   },
   "outputs": [],
   "source": [
    "creds = credentials.require(['access_token', \n",
    "                             'access_token_secret', \n",
    "                             'consumer_key',\n",
    "                             'consumer_secret'])\n",
    "\n",
    "api = TwitterAPI(creds.consumer_key,\n",
    "                 creds.consumer_secret,\n",
    "                 creds.access_token,\n",
    "                 creds.access_token_secret)"
   ]
  },
  {
   "cell_type": "code",
   "execution_count": 76,
   "metadata": {
    "collapsed": false
   },
   "outputs": [],
   "source": [
    "def tweets(query):\n",
    "    \"A generator of tweets\"\n",
    "    while True:\n",
    "        try:\n",
    "            iterator = api.request('search/tweets', {'q':query}).get_iterator()\n",
    "            for item in iterator:\n",
    "                if 'text' in item:\n",
    "                    yield(item['text'])\n",
    "                elif 'disconnect' in item:\n",
    "                    event = item['disconnect']\n",
    "                    if event['code'] in [2,5,6,7]:\n",
    "                        # something needs to be fixed before re-connecting\n",
    "                        raise Exception(event['reason'])\n",
    "                    else:\n",
    "                        # temporary interruption, re-try request\n",
    "                        break\n",
    "        except TwitterRequestError as e:\n",
    "            if e.status_code < 500:\n",
    "                # something needs to be fixed before re-connecting\n",
    "                raise\n",
    "            else:\n",
    "                # temporary interruption, re-try request\n",
    "                pass\n",
    "        except TwitterConnectionError:\n",
    "            # temporary interruption, re-try request\n",
    "            pass"
   ]
  },
  {
   "cell_type": "code",
   "execution_count": 50,
   "metadata": {
    "collapsed": false
   },
   "outputs": [
    {
     "data": {
      "text/plain": [
       "['Mejor me voy a comer pizza 😁',\n",
       " 'Qué hago comiendo pizza a esta hora?😂😂🍕',\n",
       " 'pizza pizza pizza via /r/Jokes https://t.co/feMKdiBqG1',\n",
       " \"RT @MAGCONUpdates: What's better than a little rap break between races? Everyone loves PIZZA! #MagconTakeover #MagconSanFrancisco https://t…\",\n",
       " 'RT @auhstralian: Remember when Ashton was all sweet and tweeted about animals and then Luke tweeted about hot dogs. https://t.co/hmhSomUgLM']"
      ]
     },
     "execution_count": 50,
     "metadata": {},
     "output_type": "execute_result"
    }
   ],
   "source": [
    "# Grab some tweets\n",
    "\n",
    "tweets_about_pizza = tweets(query='pizza')\n",
    "list(islice(tweets_about_pizza, 5))"
   ]
  },
  {
   "cell_type": "code",
   "execution_count": 77,
   "metadata": {
    "collapsed": false
   },
   "outputs": [
    {
     "name": "stdout",
     "output_type": "stream",
     "text": [
      "Tweet: \t RT @SMM_sportradio: 'ฟีฟ่า'อนุมัติ!เปลี่ยนสำรองคนที่ 4 ช่วงต่อเวลาพิเศษ https://t.co/v60AFdJEI1 #FM96 #SMMSPORT\n",
      "POS Tags:\n",
      "\t ('RT', 'NNP')\n",
      "\t ('@', 'NNP')\n",
      "\t ('SMM_sportradio', 'NNP')\n",
      "\t (\"'ฟีฟ่า'อนุมัติ\", 'NN')\n",
      "\t ('4', 'CD')\n",
      "\t ('ช่วงต่อเวลาพิเศษ', 'JJ')\n",
      "\t ('https', 'NN')\n",
      "\t ('//t.co/v60AFdJEI1', 'JJ')\n",
      "\t ('FM96', 'NNP')\n",
      "\t ('SMMSPORT', 'NNP')\n",
      "########################################\n",
      "Tweet: \t RT @BirdlandBrewing: 10 Beers on Tap , Hoot Beer, 4 Gourmet Sandwiches, 6 Artisan Salads, Decadent Mac-n-Cheese and One of a Kind Desserts.…\n",
      "POS Tags:\n",
      "\t ('RT', 'NNP')\n",
      "\t ('@', 'NNP')\n",
      "\t ('BirdlandBrewing', 'NNP')\n",
      "\t ('10', 'CD')\n",
      "\t ('Beers', 'NNS')\n",
      "\t ('on', 'IN')\n",
      "\t ('Tap', 'NNP')\n",
      "\t ('Hoot', 'NNP')\n",
      "\t ('Beer', 'NNP')\n",
      "\t ('4', 'CD')\n",
      "\t ('Gourmet', 'NNP')\n",
      "\t ('Sandwiches', 'NNP')\n",
      "\t ('6', 'CD')\n",
      "\t ('Artisan', 'NNP')\n",
      "\t ('Salads', 'NNP')\n",
      "\t ('Decadent', 'NNP')\n",
      "\t ('Mac-n-Cheese', 'NNP')\n",
      "\t ('and', 'CC')\n",
      "\t ('One', 'CD')\n",
      "\t ('of', 'IN')\n",
      "\t ('a', 'DT')\n",
      "\t ('Kind', 'NNP')\n",
      "\t ('Desserts.…', 'NNP')\n",
      "########################################\n"
     ]
    }
   ],
   "source": [
    "# Stream tweets and tag the words as they go by\n",
    "tweets_about_beer = tweets(query='beer')\n",
    "\n",
    "for _ in range(2):\n",
    "    blob = TextBlob(fix_text(next(tweets_about_beer)))\n",
    "    print(\"Tweet: \\t\", blob.raw)\n",
    "    print(\"POS Tags:\",) # Part of Speech \n",
    "    [print(\"\\t\", token) for token in blob.tags]\n",
    "    print('#'*40)\n",
    "    sleep(1)"
   ]
  },
  {
   "cell_type": "markdown",
   "metadata": {},
   "source": [
    "---\n",
    "__The internet also has Rainbow Butterfly Unicorn Kittens:__\n",
    "\n",
    "![](https://s-media-cache-ak0.pinimg.com/736x/bf/3f/4c/bf3f4c4e4cbc909f957f939bb6bc7cc6.jpg)"
   ]
  },
  {
   "cell_type": "code",
   "execution_count": null,
   "metadata": {
    "collapsed": true
   },
   "outputs": [],
   "source": []
  }
 ],
 "metadata": {
  "kernelspec": {
   "display_name": "Python 3",
   "language": "python",
   "name": "python3"
  },
  "language_info": {
   "codemirror_mode": {
    "name": "ipython",
    "version": 3
   },
   "file_extension": ".py",
   "mimetype": "text/x-python",
   "name": "python",
   "nbconvert_exporter": "python",
   "pygments_lexer": "ipython3",
   "version": "3.5.1"
  }
 },
 "nbformat": 4,
 "nbformat_minor": 0
}
