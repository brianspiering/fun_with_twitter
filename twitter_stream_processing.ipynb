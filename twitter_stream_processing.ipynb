{
 "cells": [
  {
   "cell_type": "markdown",
   "metadata": {},
   "source": [
    "Explore TwitterAPI\n",
    "====\n",
    "\n",
    "Based on this code: http://geduldig.github.io/TwitterAPI/faulttolerance.html"
   ]
  },
  {
   "cell_type": "code",
   "execution_count": 61,
   "metadata": {
    "collapsed": false
   },
   "outputs": [],
   "source": [
    "reset -fs"
   ]
  },
  {
   "cell_type": "code",
   "execution_count": 55,
   "metadata": {
    "collapsed": false
   },
   "outputs": [],
   "source": [
    "from itertools import islice\n",
    "from time import sleep\n",
    "\n",
    "from credentials import credentials\n",
    "from ftfy import fix_text\n",
    "from textblob import TextBlob\n",
    "from TwitterAPI import TwitterAPI"
   ]
  },
  {
   "cell_type": "code",
   "execution_count": 56,
   "metadata": {
    "collapsed": false
   },
   "outputs": [],
   "source": [
    "creds = credentials.require(['access_token', \n",
    "                             'access_token_secret', \n",
    "                             'consumer_key',\n",
    "                             'consumer_secret'])\n",
    "\n",
    "api = TwitterAPI(creds.consumer_key,\n",
    "                 creds.consumer_secret,\n",
    "                 creds.access_token,\n",
    "                 creds.access_token_secret)"
   ]
  },
  {
   "cell_type": "code",
   "execution_count": 57,
   "metadata": {
    "collapsed": false
   },
   "outputs": [],
   "source": [
    "def tweets(query):\n",
    "    \"A generator of tweets\"\n",
    "    while True:\n",
    "        try:\n",
    "            iterator = api.request('search/tweets', {'q':query}).get_iterator()\n",
    "            for item in iterator:\n",
    "                if 'text' in item:\n",
    "                    yield(item['text'])\n",
    "                elif 'disconnect' in item:\n",
    "                    event = item['disconnect']\n",
    "                    if event['code'] in [2,5,6,7]:\n",
    "                        # something needs to be fixed before re-connecting\n",
    "                        raise Exception(event['reason'])\n",
    "                    else:\n",
    "                        # temporary interruption, re-try request\n",
    "                        break\n",
    "        except TwitterRequestError as e:\n",
    "            if e.status_code < 500:\n",
    "                # something needs to be fixed before re-connecting\n",
    "                raise\n",
    "            else:\n",
    "                # temporary interruption, re-try request\n",
    "                pass\n",
    "        except TwitterConnectionError:\n",
    "            # temporary interruption, re-try request\n",
    "            pass"
   ]
  },
  {
   "cell_type": "code",
   "execution_count": 58,
   "metadata": {
    "collapsed": false
   },
   "outputs": [
    {
     "data": {
      "text/plain": [
       "['@janefletcherer  fing spirt. Atl. AND they made me chug my beer before I got in line and then they deboarded us! More pissed about that.',\n",
       " 'Drinking a Pacifico Clara by @Grupo_Modelo - https://t.co/oTpr3Z2Aur',\n",
       " \"I guess a couple games of beer pong then that's it 😴\",\n",
       " 'Drinking a Jack Savage by @bigwoodbrewery at @barleyandvinemn — https://t.co/OKo2c2LZ8o #photo',\n",
       " 'RT @MattLinzbach: @10centpower good beer out this way.  Check out @LupineBrewing in Delano also.']"
      ]
     },
     "execution_count": 58,
     "metadata": {},
     "output_type": "execute_result"
    }
   ],
   "source": [
    "# Grab some tweets\n",
    "\n",
    "tweets_about_beer = tweets(query='beer')\n",
    "list(islice(tweets_about_beer, 5))"
   ]
  },
  {
   "cell_type": "code",
   "execution_count": 59,
   "metadata": {
    "collapsed": false
   },
   "outputs": [
    {
     "name": "stdout",
     "output_type": "stream",
     "text": [
      "Tweet: \t RT @373KInc: It's Payday!  Before you buy that beer, consider a small donation to Lost & Found Youth.  https://t.co/uAyfsYbBSC https://t.co…\n",
      "POS Tags:\n",
      "\t ('RT', 'NNP')\n",
      "\t ('@', 'VBD')\n",
      "\t ('373KInc', 'CD')\n",
      "\t ('It', 'PRP')\n",
      "\t (\"'s\", 'VBZ')\n",
      "\t ('Payday', 'JJ')\n",
      "\t ('Before', 'IN')\n",
      "\t ('you', 'PRP')\n",
      "\t ('buy', 'VBP')\n",
      "\t ('that', 'IN')\n",
      "\t ('beer', 'NN')\n",
      "\t ('consider', 'VB')\n",
      "\t ('a', 'DT')\n",
      "\t ('small', 'JJ')\n",
      "\t ('donation', 'NN')\n",
      "\t ('to', 'TO')\n",
      "\t ('Lost', 'NNP')\n",
      "\t ('&', 'CC')\n",
      "\t ('Found', 'NNP')\n",
      "\t ('Youth', 'NNP')\n",
      "\t ('https', 'NN')\n",
      "\t ('//t.co/uAyfsYbBSC', 'JJ')\n",
      "\t ('https', 'NN')\n",
      "\t ('//t.co…', 'NN')\n",
      "########################################\n",
      "Tweet: \t Drinking a Negra Modelo by @Grupo_Modelo - https://t.co/UEZIAEZVv1\n",
      "POS Tags:\n",
      "\t ('Drinking', 'VBG')\n",
      "\t ('a', 'DT')\n",
      "\t ('Negra', 'NNP')\n",
      "\t ('Modelo', 'NNP')\n",
      "\t ('by', 'IN')\n",
      "\t ('@', 'NNP')\n",
      "\t ('Grupo_Modelo', 'NNP')\n",
      "\t ('https', 'NN')\n",
      "\t ('//t.co/UEZIAEZVv1', 'NN')\n",
      "########################################\n"
     ]
    }
   ],
   "source": [
    "# Stream tweets and tag the words as they go by\n",
    "tweets_about_pizza = tweets(query='pizza')\n",
    "\n",
    "for _ in range(2):\n",
    "    blob = TextBlob(fix_text(next(tweets_about_beer)))\n",
    "    print(\"Tweet: \\t\", blob.raw)\n",
    "    print(\"POS Tags:\",) # Part of Speech \n",
    "    [print(\"\\t\", token) for token in blob.tags]\n",
    "    print('#'*40)\n",
    "    sleep(1)"
   ]
  },
  {
   "cell_type": "markdown",
   "metadata": {},
   "source": [
    "---\n",
    "__The internet also has Rainbow Butterfly Unicorn Kittens:__\n",
    "\n",
    "![](https://s-media-cache-ak0.pinimg.com/736x/bf/3f/4c/bf3f4c4e4cbc909f957f939bb6bc7cc6.jpg)"
   ]
  },
  {
   "cell_type": "code",
   "execution_count": null,
   "metadata": {
    "collapsed": true
   },
   "outputs": [],
   "source": []
  }
 ],
 "metadata": {
  "kernelspec": {
   "display_name": "Python 3",
   "language": "python",
   "name": "python3"
  },
  "language_info": {
   "codemirror_mode": {
    "name": "ipython",
    "version": 3
   },
   "file_extension": ".py",
   "mimetype": "text/x-python",
   "name": "python",
   "nbconvert_exporter": "python",
   "pygments_lexer": "ipython3",
   "version": "3.5.1"
  }
 },
 "nbformat": 4,
 "nbformat_minor": 0
}
