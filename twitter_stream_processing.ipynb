{
 "cells": [
  {
   "cell_type": "markdown",
   "metadata": {},
   "source": [
    "Explore TwitterAPI\n",
    "====\n",
    "\n",
    "Based on this code: http://geduldig.github.io/TwitterAPI/faulttolerance.html"
   ]
  },
  {
   "cell_type": "code",
   "execution_count": 32,
   "metadata": {
    "collapsed": false
   },
   "outputs": [],
   "source": [
    "reset -fs"
   ]
  },
  {
   "cell_type": "code",
   "execution_count": 33,
   "metadata": {
    "collapsed": false
   },
   "outputs": [],
   "source": [
    "from itertools import islice\n",
    "from time import sleep\n",
    "\n",
    "from credentials import credentials\n",
    "from ftfy import fix_text\n",
    "from textblob import TextBlob\n",
    "from TwitterAPI import TwitterAPI"
   ]
  },
  {
   "cell_type": "code",
   "execution_count": 34,
   "metadata": {
    "collapsed": true
   },
   "outputs": [],
   "source": [
    "creds = credentials.require(['access_token', \n",
    "                             'access_token_secret', \n",
    "                             'consumer_key',\n",
    "                             'consumer_secret'])\n",
    "\n",
    "api = TwitterAPI(creds.consumer_key,\n",
    "                 creds.consumer_secret,\n",
    "                 creds.access_token,\n",
    "                 creds.access_token_secret)"
   ]
  },
  {
   "cell_type": "code",
   "execution_count": 35,
   "metadata": {
    "collapsed": false
   },
   "outputs": [],
   "source": [
    "def tweets(query):\n",
    "    \"A generator of tweets\"\n",
    "    while True:\n",
    "        try:\n",
    "            iterator = api.request('search/tweets', {'q':query}).get_iterator()\n",
    "            for item in iterator:\n",
    "                if 'text' in item:\n",
    "                    yield(item['text'])\n",
    "                elif 'disconnect' in item:\n",
    "                    event = item['disconnect']\n",
    "                    if event['code'] in [2,5,6,7]:\n",
    "                        # something needs to be fixed before re-connecting\n",
    "                        raise Exception(event['reason'])\n",
    "                    else:\n",
    "                        # temporary interruption, re-try request\n",
    "                        break\n",
    "        except TwitterRequestError as e:\n",
    "            if e.status_code < 500:\n",
    "                # something needs to be fixed before re-connecting\n",
    "                raise\n",
    "            else:\n",
    "                # temporary interruption, re-try request\n",
    "                pass\n",
    "        except TwitterConnectionError:\n",
    "            # temporary interruption, re-try request\n",
    "            pass"
   ]
  },
  {
   "cell_type": "code",
   "execution_count": 38,
   "metadata": {
    "collapsed": false
   },
   "outputs": [
    {
     "data": {
      "text/plain": [
       "['Es broma me voy a ver fargo que hoy como pizza ademas de estar solo lo dejo caer ;)',\n",
       " 'RT @CedriCommeLaBD: \"L\\'amour peut décevoir. \\nLa pizza jamais.\"\\n- Emile Zola',\n",
       " 'RT @CommonWhiteGrls: when ur mom says no pizza rolls but u put them in the cart anyway https://t.co/eZZwbqhssH',\n",
       " 'comendo pizza',\n",
       " '容疑者Xの献身やってたんかーい\\n\\n見たかったわーい\\n\\nガリレオ全部見直したーい']"
      ]
     },
     "execution_count": 38,
     "metadata": {},
     "output_type": "execute_result"
    }
   ],
   "source": [
    "# Grab some tweets\n",
    "\n",
    "t_pizza = tweets(query='pizza')\n",
    "list(islice(t_pizza, 5))"
   ]
  },
  {
   "cell_type": "code",
   "execution_count": 37,
   "metadata": {
    "collapsed": false
   },
   "outputs": [
    {
     "name": "stdout",
     "output_type": "stream",
     "text": [
      "Tweet:  @DrunkenFunGuy beer tastes the same\n",
      "Part of Speech (POS) Tags:\n",
      "\t ('@', 'JJ')\n",
      "\t ('DrunkenFunGuy', 'NNP')\n",
      "\t ('beer', 'NN')\n",
      "\t ('tastes', 'VBZ')\n",
      "\t ('the', 'DT')\n",
      "\t ('same', 'JJ')\n",
      "########################################\n",
      "Tweet:  World of Beer Drink it Intern Application: https://t.co/IDoJTgOcCW via @YouTube\n",
      "Part of Speech (POS) Tags:\n",
      "\t ('World', 'NNP')\n",
      "\t ('of', 'IN')\n",
      "\t ('Beer', 'NNP')\n",
      "\t ('Drink', 'NNP')\n",
      "\t ('it', 'PRP')\n",
      "\t ('Intern', 'NNP')\n",
      "\t ('Application', 'NNP')\n",
      "\t ('https', 'NN')\n",
      "\t ('//t.co/IDoJTgOcCW', 'JJ')\n",
      "\t ('via', 'IN')\n",
      "\t ('@', 'NN')\n",
      "\t ('YouTube', 'NN')\n",
      "########################################\n",
      "Tweet:  Or whenever I was playing beer pong and I spilt a cup and yelled \"my water just broke\" 😂😂\n",
      "Part of Speech (POS) Tags:\n",
      "\t ('Or', 'CC')\n",
      "\t ('whenever', 'WRB')\n",
      "\t ('I', 'PRP')\n",
      "\t ('was', 'VBD')\n",
      "\t ('playing', 'VBG')\n",
      "\t ('beer', 'NN')\n",
      "\t ('pong', 'NN')\n",
      "\t ('and', 'CC')\n",
      "\t ('I', 'PRP')\n",
      "\t ('spilt', 'VBP')\n",
      "\t ('a', 'DT')\n",
      "\t ('cup', 'NN')\n",
      "\t ('and', 'CC')\n",
      "\t ('yelled', 'VBD')\n",
      "\t ('my', 'PRP$')\n",
      "\t ('water', 'NN')\n",
      "\t ('just', 'RB')\n",
      "\t ('broke', 'VBD')\n",
      "\t ('😂😂', 'NN')\n",
      "########################################\n",
      "Tweet:  RT @RealAleChester: The @DevaCraftBeer \"Brewery Open Day\" starts at 12.30pm today, MTB/tours/beer/food, FREE entry, just turn up. https://t…\n",
      "Part of Speech (POS) Tags:\n",
      "\t ('RT', 'NNP')\n",
      "\t ('@', 'NNP')\n",
      "\t ('RealAleChester', 'NNP')\n",
      "\t ('The', 'DT')\n",
      "\t ('@', 'NNP')\n",
      "\t ('DevaCraftBeer', 'NNP')\n",
      "\t ('Brewery', 'NNP')\n",
      "\t ('Open', 'NNP')\n",
      "\t ('Day', 'NNP')\n",
      "\t ('starts', 'VBZ')\n",
      "\t ('at', 'IN')\n",
      "\t ('12.30pm', 'CD')\n",
      "\t ('today', 'NN')\n",
      "\t ('MTB/tours/beer/food', 'NNP')\n",
      "\t ('FREE', 'NNP')\n",
      "\t ('entry', 'NN')\n",
      "\t ('just', 'RB')\n",
      "\t ('turn', 'VB')\n",
      "\t ('up', 'RP')\n",
      "\t ('https', 'NN')\n",
      "\t ('//t…', 'NN')\n",
      "########################################\n",
      "Tweet:  RT @MadisonB_News: WORLDWIDE GIVEAWAY!\n",
      "\n",
      "RT + FOLLOW US for a chance to win Madison Beer's beanie. Picking the winner when we reach 10K! htt…\n",
      "Part of Speech (POS) Tags:\n",
      "\t ('RT', 'NNP')\n",
      "\t ('@', 'NNP')\n",
      "\t ('MadisonB_News', 'NNP')\n",
      "\t ('WORLDWIDE', 'NNP')\n",
      "\t ('GIVEAWAY', 'NNP')\n",
      "\t ('RT', 'NNP')\n",
      "\t ('+', 'NNP')\n",
      "\t ('FOLLOW', 'NNP')\n",
      "\t ('US', 'NNP')\n",
      "\t ('for', 'IN')\n",
      "\t ('a', 'DT')\n",
      "\t ('chance', 'NN')\n",
      "\t ('to', 'TO')\n",
      "\t ('win', 'VB')\n",
      "\t ('Madison', 'NNP')\n",
      "\t ('Beer', 'NNP')\n",
      "\t (\"'s\", 'POS')\n",
      "\t ('beanie', 'NN')\n",
      "\t ('Picking', 'VBG')\n",
      "\t ('the', 'DT')\n",
      "\t ('winner', 'NN')\n",
      "\t ('when', 'WRB')\n",
      "\t ('we', 'PRP')\n",
      "\t ('reach', 'VBP')\n",
      "\t ('10K', 'CD')\n",
      "\t ('htt…', 'NN')\n",
      "########################################\n"
     ]
    }
   ],
   "source": [
    "# Stream tweets and tag the words as they go by\n",
    "t_beer = tweets(query='beer')\n",
    "\n",
    "for _ in range(5):\n",
    "    blob = TextBlob(fix_text(next(t_beer)))\n",
    "    print(\"Tweet: \", blob.raw)\n",
    "    print(\"Part of Speech (POS) Tags:\",)\n",
    "    [print(\"\\t\", token) for token in blob.tags]\n",
    "    print('#'*40)\n",
    "    sleep(1)"
   ]
  },
  {
   "cell_type": "markdown",
   "metadata": {},
   "source": [
    "---\n",
    "__The internet also has Rainbow Butterfly Unicorn Kittens:__\n",
    "\n",
    "![](https://s-media-cache-ak0.pinimg.com/736x/bf/3f/4c/bf3f4c4e4cbc909f957f939bb6bc7cc6.jpg)"
   ]
  }
 ],
 "metadata": {
  "kernelspec": {
   "display_name": "Python 3",
   "language": "python",
   "name": "python3"
  },
  "language_info": {
   "codemirror_mode": {
    "name": "ipython",
    "version": 3
   },
   "file_extension": ".py",
   "mimetype": "text/x-python",
   "name": "python",
   "nbconvert_exporter": "python",
   "pygments_lexer": "ipython3",
   "version": "3.5.1"
  }
 },
 "nbformat": 4,
 "nbformat_minor": 0
}
