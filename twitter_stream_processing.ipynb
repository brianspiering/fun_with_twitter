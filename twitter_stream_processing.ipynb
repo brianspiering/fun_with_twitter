{
 "cells": [
  {
   "cell_type": "code",
   "execution_count": 31,
   "metadata": {
    "collapsed": false
   },
   "outputs": [],
   "source": [
    "from time import sleep\n",
    "\n",
    "from credentials import credentials\n",
    "from TwitterAPI import TwitterAPI"
   ]
  },
  {
   "cell_type": "code",
   "execution_count": 11,
   "metadata": {
    "collapsed": true
   },
   "outputs": [],
   "source": [
    "creds = credentials.require(['access_token', \n",
    "                             'access_token_secret', \n",
    "                             'consumer_key',\n",
    "                             'consumer_secret'])"
   ]
  },
  {
   "cell_type": "code",
   "execution_count": 13,
   "metadata": {
    "collapsed": false
   },
   "outputs": [],
   "source": [
    "api = TwitterAPI(creds.consumer_key,\n",
    "                 creds.consumer_secret,\n",
    "                 creds.access_token,\n",
    "                 creds.access_token_secret)"
   ]
  },
  {
   "cell_type": "code",
   "execution_count": 22,
   "metadata": {
    "collapsed": false
   },
   "outputs": [],
   "source": [
    "def tweets():\n",
    "    \"A generator of tweets\"\n",
    "    while True:\n",
    "        try:\n",
    "            iterator = api.request('search/tweets', {'q':'pizza'}).get_iterator()\n",
    "            for item in iterator:\n",
    "                if 'text' in item:\n",
    "                    yield(item['text'])\n",
    "                elif 'disconnect' in item:\n",
    "                    event = item['disconnect']\n",
    "                    if event['code'] in [2,5,6,7]:\n",
    "                        # something needs to be fixed before re-connecting\n",
    "                        raise Exception(event['reason'])\n",
    "                    else:\n",
    "                        # temporary interruption, re-try request\n",
    "                        break\n",
    "        except TwitterRequestError as e:\n",
    "            if e.status_code < 500:\n",
    "                # something needs to be fixed before re-connecting\n",
    "                raise\n",
    "            else:\n",
    "                # temporary interruption, re-try request\n",
    "                pass\n",
    "        except TwitterConnectionError:\n",
    "            # temporary interruption, re-try request\n",
    "            pass"
   ]
  },
  {
   "cell_type": "code",
   "execution_count": 35,
   "metadata": {
    "collapsed": false
   },
   "outputs": [
    {
     "name": "stdout",
     "output_type": "stream",
     "text": [
      "RT @LifeAsADabber: When the whole squad high af and the pizza guys shows up at the door https://t.co/l6ZXNhPWaV\n",
      "####################\n",
      "Does it make me a fatass if I can eat an entire blaze pizza on my own .? 😐 lol\n",
      "####################\n",
      "RT @ItsDanniRyan: Screw sleep, I need pizza 😂 #pimpmysummerballteesside https://t.co/1RW8TgEgFf\n",
      "####################\n",
      "RT @youfunnyb: Wake up &amp; remembered you have left over pizza #youfunnyb https://t.co/MC9144EJ24\n",
      "####################\n",
      "RT @WorIdStarVine: When your mom says no pizza rolls but you put them in the cart anyway https://t.co/s2gdaLLhbO\n",
      "####################\n",
      "Me: \"r u looking at my stomach?\"\n",
      "@jakeburnstein : \"no, u don't have 1\"\n",
      "Me: \"watch me fill it w/ pizza\"  🍕\n",
      "####################\n",
      "@mone0115 \n",
      "最高です！\n",
      "1Dは少ししてからでした😊\n",
      "どっちも素敵ですよね💗\n",
      "ありがとうございます！\n",
      "いえいえそんな🌟\n",
      "####################\n",
      "Not just talking bout pizza.\n",
      "####################\n",
      "I'm at California Pizza Kitchen - @cpkmexico in Naucalpan, MEX https://t.co/xggg3CGid2\n",
      "####################\n",
      "pizza食べ放題でいっぱい食べた(｀・∞・´)\n",
      "\n",
      "たぶん一番食べた(。-∀-)\n",
      "でも....\n",
      "\n",
      "当分pizzaはいいや(笑\n",
      "####################\n"
     ]
    }
   ],
   "source": [
    "for _ in range(10):\n",
    "    print(next(t), end='\\n'+'#'*20+\"\\n\")\n",
    "    sleep(1)"
   ]
  }
 ],
 "metadata": {
  "kernelspec": {
   "display_name": "Python 3",
   "language": "python",
   "name": "python3"
  },
  "language_info": {
   "codemirror_mode": {
    "name": "ipython",
    "version": 3
   },
   "file_extension": ".py",
   "mimetype": "text/x-python",
   "name": "python",
   "nbconvert_exporter": "python",
   "pygments_lexer": "ipython3",
   "version": "3.5.1"
  }
 },
 "nbformat": 4,
 "nbformat_minor": 0
}
