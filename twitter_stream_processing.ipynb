{
 "cells": [
  {
   "cell_type": "markdown",
   "metadata": {},
   "source": [
    "Explore TwitterAPI\n",
    "====\n",
    "\n",
    "Based on this code: http://geduldig.github.io/TwitterAPI/faulttolerance.html"
   ]
  },
  {
   "cell_type": "code",
   "execution_count": 21,
   "metadata": {
    "collapsed": false
   },
   "outputs": [],
   "source": [
    "reset -fs"
   ]
  },
  {
   "cell_type": "code",
   "execution_count": 32,
   "metadata": {
    "collapsed": false
   },
   "outputs": [],
   "source": [
    "from time import sleep\n",
    "\n",
    "from credentials import credentials\n",
    "from ftfy import fix_text\n",
    "from textblob import TextBlob\n",
    "from TwitterAPI import TwitterAPI"
   ]
  },
  {
   "cell_type": "code",
   "execution_count": 23,
   "metadata": {
    "collapsed": true
   },
   "outputs": [],
   "source": [
    "creds = credentials.require(['access_token', \n",
    "                             'access_token_secret', \n",
    "                             'consumer_key',\n",
    "                             'consumer_secret'])\n",
    "\n",
    "api = TwitterAPI(creds.consumer_key,\n",
    "                 creds.consumer_secret,\n",
    "                 creds.access_token,\n",
    "                 creds.access_token_secret)"
   ]
  },
  {
   "cell_type": "code",
   "execution_count": 24,
   "metadata": {
    "collapsed": false
   },
   "outputs": [],
   "source": [
    "def tweets(query):\n",
    "    \"A generator of tweets\"\n",
    "    while True:\n",
    "        try:\n",
    "            iterator = api.request('search/tweets', {'q':query}).get_iterator()\n",
    "            for item in iterator:\n",
    "                if 'text' in item:\n",
    "                    yield(item['text'])\n",
    "                elif 'disconnect' in item:\n",
    "                    event = item['disconnect']\n",
    "                    if event['code'] in [2,5,6,7]:\n",
    "                        # something needs to be fixed before re-connecting\n",
    "                        raise Exception(event['reason'])\n",
    "                    else:\n",
    "                        # temporary interruption, re-try request\n",
    "                        break\n",
    "        except TwitterRequestError as e:\n",
    "            if e.status_code < 500:\n",
    "                # something needs to be fixed before re-connecting\n",
    "                raise\n",
    "            else:\n",
    "                # temporary interruption, re-try request\n",
    "                pass\n",
    "        except TwitterConnectionError:\n",
    "            # temporary interruption, re-try request\n",
    "            pass"
   ]
  },
  {
   "cell_type": "code",
   "execution_count": 25,
   "metadata": {
    "collapsed": false
   },
   "outputs": [],
   "source": [
    "t = tweets(query='pizza')"
   ]
  },
  {
   "cell_type": "code",
   "execution_count": 38,
   "metadata": {
    "collapsed": false
   },
   "outputs": [
    {
     "name": "stdout",
     "output_type": "stream",
     "text": [
      "pizza pizza pizza is bae\n",
      "[('pizza', 'NN'), ('pizza', 'NN'), ('pizza', 'NN'), ('is', 'VBZ'), ('bae', 'JJ')]\n",
      "########################################\n",
      "Pi day has been a day of friendship and shitty pie for the past couple of years this year is hopefully pizza and a couple pals\n",
      "[('Pi', 'NNP'), ('day', 'NN'), ('has', 'VBZ'), ('been', 'VBN'), ('a', 'DT'), ('day', 'NN'), ('of', 'IN'), ('friendship', 'NN'), ('and', 'CC'), ('shitty', 'JJ'), ('pie', 'NN'), ('for', 'IN'), ('the', 'DT'), ('past', 'JJ'), ('couple', 'NN'), ('of', 'IN'), ('years', 'NNS'), ('this', 'DT'), ('year', 'NN'), ('is', 'VBZ'), ('hopefully', 'RB'), ('pizza', 'JJ'), ('and', 'CC'), ('a', 'DT'), ('couple', 'NN'), ('pals', 'NNS')]\n",
      "########################################\n",
      "RT @adam_bronicki: The priorities in life are     Eating pizza z\n",
      "[('RT', 'NNP'), ('@', 'NNP'), ('adam_bronicki', 'NN'), ('The', 'DT'), ('priorities', 'NNS'), ('in', 'IN'), ('life', 'NN'), ('are', 'VBP'), ('Eating', 'VBG'), ('pizza', 'NN'), ('z', 'NN')]\n",
      "########################################\n",
      "RT @ItsAlyssaShouse: I'm ready for some pizza right now\n",
      "[('RT', 'NNP'), ('@', 'NNP'), ('ItsAlyssaShouse', 'NNP'), ('I', 'PRP'), (\"'m\", 'VBP'), ('ready', 'JJ'), ('for', 'IN'), ('some', 'DT'), ('pizza', 'NN'), ('right', 'RB'), ('now', 'RB')]\n",
      "########################################\n",
      "RT @jessiepaege: me: I don't know if I can hang out\n",
      "friend: I ordered pizza\n",
      "me: I'll be over in 5\n",
      "[('RT', 'NNP'), ('@', 'NNP'), ('jessiepaege', 'NN'), ('me', 'PRP'), ('I', 'PRP'), ('do', 'VBP'), (\"n't\", 'RB'), ('know', 'VB'), ('if', 'IN'), ('I', 'PRP'), ('can', 'MD'), ('hang', 'VB'), ('out', 'RP'), ('friend', 'NN'), ('I', 'PRP'), ('ordered', 'VBD'), ('pizza', 'FW'), ('me', 'PRP'), ('I', 'PRP'), (\"'ll\", 'MD'), ('be', 'VB'), ('over', 'IN'), ('in', 'IN'), ('5', 'CD')]\n",
      "########################################\n",
      "não sei se deixo esse icon da leigh sem a pizza na cabeça ou com\n",
      "[('não', 'JJ'), ('sei', 'NN'), ('se', 'NN'), ('deixo', 'NN'), ('esse', 'FW'), ('icon', 'NN'), ('da', 'NN'), ('leigh', 'JJ'), ('sem', 'NN'), ('a', 'DT'), ('pizza', 'NN'), ('na', 'TO'), ('cabeça', 'VB'), ('ou', 'JJ'), ('com', 'NN')]\n",
      "########################################\n",
      "I accidentally ordered a whole meat pizza for myself! I'm super tempted to just eat it. (I haven't eaten meat in probably 10 yrs.)\n",
      "[('I', 'PRP'), ('accidentally', 'RB'), ('ordered', 'VBD'), ('a', 'DT'), ('whole', 'JJ'), ('meat', 'NN'), ('pizza', 'NN'), ('for', 'IN'), ('myself', 'NN'), ('I', 'PRP'), (\"'m\", 'VBP'), ('super', 'JJ'), ('tempted', 'VBN'), ('to', 'TO'), ('just', 'RB'), ('eat', 'VB'), ('it', 'PRP'), ('I', 'PRP'), ('have', 'VBP'), (\"n't\", 'RB'), ('eaten', 'VBN'), ('meat', 'NN'), ('in', 'IN'), ('probably', 'RB'), ('10', 'CD'), ('yrs', 'NNS')]\n",
      "########################################\n",
      "#KCA to #screamqueens #paleyfest to home. For pizza. 📷: monfink https://t.co/H0vLV9d14A\n",
      "[('KCA', 'NNP'), ('to', 'TO'), ('screamqueens', 'NNS'), ('paleyfest', 'JJS'), ('to', 'TO'), ('home', 'NN'), ('For', 'IN'), ('pizza', 'NN'), ('📷', 'NN'), ('monfink', 'NN'), ('https', 'NN'), ('//t.co/H0vLV9d14A', 'NN')]\n",
      "########################################\n",
      "RT @ItsFoodsPorn: Pizza Bagels https://t.co/5S6rSF1zra\n",
      "[('RT', 'NNP'), ('@', 'NNP'), ('ItsFoodsPorn', 'NNP'), ('Pizza', 'NNP'), ('Bagels', 'NNP'), ('https', 'NN'), ('//t.co/5S6rSF1zra', 'NN')]\n",
      "########################################\n",
      "A minha pizza ficou dura KKKKKKKKKKKJJK\n",
      "[('A', 'DT'), ('minha', 'NN'), ('pizza', 'NN'), ('ficou', 'NN'), ('dura', 'NN'), ('KKKKKKKKKKKJJK', 'NNP')]\n",
      "########################################\n"
     ]
    }
   ],
   "source": [
    "for _ in range(10):\n",
    "    blob = TextBlob(fix_text(next(t)))\n",
    "    print(blob.raw)\n",
    "    print(blob.tags)\n",
    "    \n",
    "    print('#'*40)\n",
    "    sleep(1)"
   ]
  },
  {
   "cell_type": "markdown",
   "metadata": {},
   "source": [
    "---\n",
    "__The internet also has Rainbow Butterfly Unicorn Kittens:__\n",
    "\n",
    "![](https://s-media-cache-ak0.pinimg.com/736x/bf/3f/4c/bf3f4c4e4cbc909f957f939bb6bc7cc6.jpg)"
   ]
  }
 ],
 "metadata": {
  "kernelspec": {
   "display_name": "Python 3",
   "language": "python",
   "name": "python3"
  },
  "language_info": {
   "codemirror_mode": {
    "name": "ipython",
    "version": 3
   },
   "file_extension": ".py",
   "mimetype": "text/x-python",
   "name": "python",
   "nbconvert_exporter": "python",
   "pygments_lexer": "ipython3",
   "version": "3.5.1"
  }
 },
 "nbformat": 4,
 "nbformat_minor": 0
}
