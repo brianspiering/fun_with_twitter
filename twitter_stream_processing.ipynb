{
 "cells": [
  {
   "cell_type": "markdown",
   "metadata": {},
   "source": [
    "Explore TwitterAPI\n",
    "====\n",
    "\n",
    "Based on this code: http://geduldig.github.io/TwitterAPI/faulttolerance.html"
   ]
  },
  {
   "cell_type": "code",
   "execution_count": 21,
   "metadata": {
    "collapsed": false
   },
   "outputs": [],
   "source": [
    "reset -fs"
   ]
  },
  {
   "cell_type": "code",
   "execution_count": 32,
   "metadata": {
    "collapsed": false
   },
   "outputs": [],
   "source": [
    "from time import sleep\n",
    "\n",
    "from credentials import credentials\n",
    "from ftfy import fix_text\n",
    "from textblob import TextBlob\n",
    "from TwitterAPI import TwitterAPI"
   ]
  },
  {
   "cell_type": "code",
   "execution_count": 23,
   "metadata": {
    "collapsed": true
   },
   "outputs": [],
   "source": [
    "creds = credentials.require(['access_token', \n",
    "                             'access_token_secret', \n",
    "                             'consumer_key',\n",
    "                             'consumer_secret'])\n",
    "\n",
    "api = TwitterAPI(creds.consumer_key,\n",
    "                 creds.consumer_secret,\n",
    "                 creds.access_token,\n",
    "                 creds.access_token_secret)"
   ]
  },
  {
   "cell_type": "code",
   "execution_count": 24,
   "metadata": {
    "collapsed": false
   },
   "outputs": [],
   "source": [
    "def tweets(query):\n",
    "    \"A generator of tweets\"\n",
    "    while True:\n",
    "        try:\n",
    "            iterator = api.request('search/tweets', {'q':query}).get_iterator()\n",
    "            for item in iterator:\n",
    "                if 'text' in item:\n",
    "                    yield(item['text'])\n",
    "                elif 'disconnect' in item:\n",
    "                    event = item['disconnect']\n",
    "                    if event['code'] in [2,5,6,7]:\n",
    "                        # something needs to be fixed before re-connecting\n",
    "                        raise Exception(event['reason'])\n",
    "                    else:\n",
    "                        # temporary interruption, re-try request\n",
    "                        break\n",
    "        except TwitterRequestError as e:\n",
    "            if e.status_code < 500:\n",
    "                # something needs to be fixed before re-connecting\n",
    "                raise\n",
    "            else:\n",
    "                # temporary interruption, re-try request\n",
    "                pass\n",
    "        except TwitterConnectionError:\n",
    "            # temporary interruption, re-try request\n",
    "            pass"
   ]
  },
  {
   "cell_type": "code",
   "execution_count": 25,
   "metadata": {
    "collapsed": false
   },
   "outputs": [],
   "source": [
    "t = tweets(query='pizza')"
   ]
  },
  {
   "cell_type": "code",
   "execution_count": 34,
   "metadata": {
    "collapsed": false
   },
   "outputs": [
    {
     "name": "stdout",
     "output_type": "stream",
     "text": [
      "RT @TheCarlosPena: I just want to cruise forever. All of you can come with me AND we can eat all the pizza we want!! Anyone in? https://t.c…\n",
      "[('RT', 'NNP'), ('@', 'NNP'), ('TheCarlosPena', 'NNP'), ('I', 'PRP'), ('just', 'RB'), ('want', 'VBP'), ('to', 'TO'), ('cruise', 'VB'), ('forever', 'RB'), ('All', 'DT'), ('of', 'IN'), ('you', 'PRP'), ('can', 'MD'), ('come', 'VB'), ('with', 'IN'), ('me', 'PRP'), ('AND', 'IN'), ('we', 'PRP'), ('can', 'MD'), ('eat', 'VB'), ('all', 'PDT'), ('the', 'DT'), ('pizza', 'NN'), ('we', 'PRP'), ('want', 'VBP'), ('Anyone', 'NN'), ('in', 'IN'), ('https', 'NN'), ('//t.c…', 'NN')]\n",
      "########################################\n",
      "RT @TheCarlosPena: I just want pizza right now. #random\n",
      "[('RT', 'NNP'), ('@', 'NNP'), ('TheCarlosPena', 'NNP'), ('I', 'PRP'), ('just', 'RB'), ('want', 'VBP'), ('pizza', 'JJ'), ('right', 'RB'), ('now', 'RB'), ('random', 'NN')]\n",
      "########################################\n",
      "Comiendo pizza a las 2:30 de la mañana jajaj https://t.co/A8i2xCF1R9\n",
      "[('Comiendo', 'NNP'), ('pizza', 'VBZ'), ('a', 'DT'), ('las', 'JJ'), ('2:30', 'CD'), ('de', 'IN'), ('la', 'FW'), ('mañana', 'FW'), ('jajaj', 'NN'), ('https', 'NN'), ('//t.co/A8i2xCF1R9', 'NN')]\n",
      "########################################\n",
      "no amount of aspirin or pizza can help this from hurting\n",
      "[('no', 'DT'), ('amount', 'NN'), ('of', 'IN'), ('aspirin', 'NN'), ('or', 'CC'), ('pizza', 'NN'), ('can', 'MD'), ('help', 'VB'), ('this', 'DT'), ('from', 'IN'), ('hurting', 'VBG')]\n",
      "########################################\n",
      "RT @hofysquadorigin: RT if you would love to hear the pizza song at SLFL!!! #BestFanArmy  #5SOSFam #iHeartAwards #\n",
      "[('RT', 'NNP'), ('@', 'NNP'), ('hofysquadorigin', 'NN'), ('RT', 'VB'), ('if', 'IN'), ('you', 'PRP'), ('would', 'MD'), ('love', 'VB'), ('to', 'TO'), ('hear', 'VB'), ('the', 'DT'), ('pizza', 'NN'), ('song', 'NN'), ('at', 'IN'), ('SLFL', 'NNP'), ('BestFanArmy', 'NNP'), ('5SOSFam', 'CD'), ('iHeartAwards', 'NNS')]\n",
      "########################################\n",
      "The Varsity Pizza Hut Delivery\n",
      "[('The', 'DT'), ('Varsity', 'NNP'), ('Pizza', 'NNP'), ('Hut', 'NNP'), ('Delivery', 'NNP')]\n",
      "########################################\n",
      "this pizza needa hurry 😳\n",
      "[('this', 'DT'), ('pizza', 'NN'), ('needa', 'JJ'), ('hurry', 'NN'), ('😳', 'NN')]\n",
      "########################################\n",
      "Already made more money in the past 2 nights delivering at Pizza Hut than I would on a 2 week paycheck at Marco's. 😅\n",
      "[('Already', 'RB'), ('made', 'VBN'), ('more', 'JJR'), ('money', 'NN'), ('in', 'IN'), ('the', 'DT'), ('past', 'JJ'), ('2', 'CD'), ('nights', 'NNS'), ('delivering', 'VBG'), ('at', 'IN'), ('Pizza', 'NNP'), ('Hut', 'NNP'), ('than', 'IN'), ('I', 'PRP'), ('would', 'MD'), ('on', 'IN'), ('a', 'DT'), ('2', 'CD'), ('week', 'NN'), ('paycheck', 'NN'), ('at', 'IN'), ('Marco', 'NNP'), (\"'s\", 'POS'), ('😅', 'NN')]\n",
      "########################################\n",
      "RT @BarhamLibby: It's nights like these when I wish I had my bestfriend here to watch movies and eat pizza\n",
      "[('RT', 'NNP'), ('@', 'NNP'), ('BarhamLibby', 'NNP'), ('It', 'PRP'), (\"'s\", 'VBZ'), ('nights', 'NNS'), ('like', 'IN'), ('these', 'DT'), ('when', 'WRB'), ('I', 'PRP'), ('wish', 'VBP'), ('I', 'PRP'), ('had', 'VBD'), ('my', 'PRP$'), ('bestfriend', 'NN'), ('here', 'RB'), ('to', 'TO'), ('watch', 'VB'), ('movies', 'NNS'), ('and', 'CC'), ('eat', 'NN'), ('pizza', 'NN')]\n",
      "########################################\n",
      "Kalami mag pizza -_-\n",
      "[('Kalami', 'NNP'), ('mag', 'PRP'), ('pizza', 'VBP'), ('-_-', 'JJ')]\n",
      "########################################\n"
     ]
    }
   ],
   "source": [
    "for _ in range(10):\n",
    "    text = fix_text(next(t))\n",
    "    print(text)\n",
    "    \n",
    "    blob = TextBlob(text)\n",
    "    print(blob.tags)\n",
    "    \n",
    "    print('#'*40)\n",
    "    sleep(1)"
   ]
  },
  {
   "cell_type": "markdown",
   "metadata": {},
   "source": [
    "---\n",
    "__You get a Rainbow Butterfly Unicorn Kitten:__\n",
    "\n",
    "![](https://s-media-cache-ak0.pinimg.com/736x/bf/3f/4c/bf3f4c4e4cbc909f957f939bb6bc7cc6.jpg)"
   ]
  }
 ],
 "metadata": {
  "kernelspec": {
   "display_name": "Python 3",
   "language": "python",
   "name": "python3"
  },
  "language_info": {
   "codemirror_mode": {
    "name": "ipython",
    "version": 3
   },
   "file_extension": ".py",
   "mimetype": "text/x-python",
   "name": "python",
   "nbconvert_exporter": "python",
   "pygments_lexer": "ipython3",
   "version": "3.5.1"
  }
 },
 "nbformat": 4,
 "nbformat_minor": 0
}
